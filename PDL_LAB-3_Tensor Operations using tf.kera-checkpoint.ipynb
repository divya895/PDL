{
 "cells": [
  {
   "cell_type": "markdown",
   "id": "a4635f8b",
   "metadata": {},
   "source": [
    "### PDL LAB3: Introduction to Tensors - Part II"
   ]
  },
  {
   "cell_type": "code",
   "execution_count": 1,
   "id": "11778469",
   "metadata": {},
   "outputs": [],
   "source": [
    "import tensorflow as tf\n",
    "import numpy as np"
   ]
  },
  {
   "cell_type": "markdown",
   "id": "13be6912",
   "metadata": {},
   "source": [
    "### Scalar - Rank 0 Tensor"
   ]
  },
  {
   "cell_type": "code",
   "execution_count": 2,
   "id": "ff741349",
   "metadata": {},
   "outputs": [
    {
     "name": "stdout",
     "output_type": "stream",
     "text": [
      "tf.Tensor(3, shape=(), dtype=int32)\n"
     ]
    }
   ],
   "source": [
    "rank_0_tensor=tf.constant(3)\n",
    "print(rank_0_tensor)"
   ]
  },
  {
   "cell_type": "code",
   "execution_count": 3,
   "id": "b18ef3d7",
   "metadata": {},
   "outputs": [
    {
     "name": "stdout",
     "output_type": "stream",
     "text": [
      "tf.Tensor([3.  6.  3.2 3.6], shape=(4,), dtype=float32)\n"
     ]
    }
   ],
   "source": [
    "rank_1_tensor=tf.constant([3.0,6.0,3.2,3.6])\n",
    "print(rank_1_tensor)"
   ]
  },
  {
   "cell_type": "markdown",
   "id": "04d7b6b9",
   "metadata": {},
   "source": [
    "### Scalar - Rank 2 Tensor\n"
   ]
  },
  {
   "cell_type": "code",
   "execution_count": 7,
   "id": "0ac34302",
   "metadata": {},
   "outputs": [
    {
     "name": "stdout",
     "output_type": "stream",
     "text": [
      "tf.Tensor(\n",
      "[[ 3.  2.]\n",
      " [ 7.  8.]\n",
      " [65. 78.]], shape=(3, 2), dtype=float16)\n"
     ]
    }
   ],
   "source": [
    "rank_2_tensor=tf.constant([[3,2],[7,8],[65,78]],dtype=tf.float16)\n",
    "print(rank_2_tensor)"
   ]
  },
  {
   "cell_type": "code",
   "execution_count": 11,
   "id": "0f2c16cf",
   "metadata": {},
   "outputs": [
    {
     "name": "stdout",
     "output_type": "stream",
     "text": [
      "tf.Tensor(\n",
      "[[[ 0  1  2  3  4  5]\n",
      "  [11 12 13 13 14 15]]\n",
      "\n",
      " [[87 23 45 12 34 12]\n",
      "  [23 34 56 67 78 67]]], shape=(2, 2, 6), dtype=int32)\n"
     ]
    }
   ],
   "source": [
    "rank_3_tensor=tf.constant([\n",
    "                          [[0,1,2,3,4,5],\n",
    "                        [11,12,13,13,14,15]],\n",
    "                        [[87,23,45,12,34,12],\n",
    "                [23,34,56,67,78,67]],])\n",
    "print(rank_3_tensor)\n"
   ]
  },
  {
   "cell_type": "markdown",
   "id": "e3d94d74",
   "metadata": {},
   "source": [
    "### Tensor to Numpy Array"
   ]
  },
  {
   "cell_type": "code",
   "execution_count": 12,
   "id": "88b16dcc",
   "metadata": {},
   "outputs": [
    {
     "data": {
      "text/plain": [
       "array([[ 3.,  2.],\n",
       "       [ 7.,  8.],\n",
       "       [65., 78.]], dtype=float16)"
      ]
     },
     "execution_count": 12,
     "metadata": {},
     "output_type": "execute_result"
    }
   ],
   "source": [
    "np.array(rank_2_tensor)"
   ]
  },
  {
   "cell_type": "code",
   "execution_count": 13,
   "id": "cda2da8c",
   "metadata": {},
   "outputs": [
    {
     "data": {
      "text/plain": [
       "array([[ 3.,  2.],\n",
       "       [ 7.,  8.],\n",
       "       [65., 78.]], dtype=float16)"
      ]
     },
     "execution_count": 13,
     "metadata": {},
     "output_type": "execute_result"
    }
   ],
   "source": [
    "rank_2_tensor.numpy()"
   ]
  },
  {
   "cell_type": "markdown",
   "id": "f1256d3b",
   "metadata": {},
   "source": [
    "### Maths on Tensors"
   ]
  },
  {
   "cell_type": "code",
   "execution_count": 16,
   "id": "8821c14f",
   "metadata": {},
   "outputs": [],
   "source": [
    "a=tf.constant([[2,3],[6,7]])\n",
    "b=tf.constant([[4,5],[5,4]])"
   ]
  },
  {
   "cell_type": "code",
   "execution_count": 17,
   "id": "ef872734",
   "metadata": {},
   "outputs": [
    {
     "name": "stdout",
     "output_type": "stream",
     "text": [
      "addition\n",
      "tf.Tensor(\n",
      "[[ 6  8]\n",
      " [11 11]], shape=(2, 2), dtype=int32) \n",
      "\n",
      "multiplication\n",
      "tf.Tensor(\n",
      "[[ 8 15]\n",
      " [30 28]], shape=(2, 2), dtype=int32) \n",
      "\n",
      "matrix multiplication\n",
      "tf.Tensor(\n",
      "[[23 22]\n",
      " [59 58]], shape=(2, 2), dtype=int32) \n",
      "\n",
      "None\n"
     ]
    }
   ],
   "source": [
    "print(\"addition\")\n",
    "print(tf.add(a,b),\"\\n\")\n",
    "print(\"multiplication\")\n",
    "print(tf.multiply(a,b),\"\\n\")\n",
    "print(\"matrix multiplication\")\n",
    "print(print(tf.matmul(a,b),\"\\n\"))"
   ]
  },
  {
   "cell_type": "code",
   "execution_count": 18,
   "id": "2562fc72",
   "metadata": {},
   "outputs": [
    {
     "name": "stdout",
     "output_type": "stream",
     "text": [
      "tf.Tensor(\n",
      "[[ 6  8]\n",
      " [11 11]], shape=(2, 2), dtype=int32) \n",
      "\n",
      "tf.Tensor(\n",
      "[[ 8 15]\n",
      " [30 28]], shape=(2, 2), dtype=int32) \n",
      "\n",
      "tf.Tensor(\n",
      "[[23 22]\n",
      " [59 58]], shape=(2, 2), dtype=int32) \n",
      "\n"
     ]
    }
   ],
   "source": [
    "print(a+b,\"\\n\")\n",
    "print(a*b,\"\\n\")\n",
    "print(a@b,\"\\n\")\n",
    "\n"
   ]
  },
  {
   "cell_type": "code",
   "execution_count": 27,
   "id": "5dcaf113",
   "metadata": {},
   "outputs": [],
   "source": [
    "rank_4_tensor=tf.zeros([1,2,3,5])"
   ]
  },
  {
   "cell_type": "code",
   "execution_count": 28,
   "id": "7a02340f",
   "metadata": {},
   "outputs": [
    {
     "name": "stdout",
     "output_type": "stream",
     "text": [
      "Type of every element: <dtype: 'float32'>\n",
      "no of dimensions: 4\n",
      "shape: (1, 2, 3, 5)\n",
      "elements along axis 0 of tensor: 1\n",
      "elements along last axis  of tensor: 5\n",
      "Total number of elements (3*2*4*5): 30\n"
     ]
    }
   ],
   "source": [
    "print(\"Type of every element:\",rank_4_tensor.dtype)\n",
    "print(\"no of dimensions:\",rank_4_tensor.ndim)\n",
    "print(\"shape:\",rank_4_tensor.shape)\n",
    "print(\"elements along axis 0 of tensor:\",rank_4_tensor.shape[0])\n",
    "print(\"elements along last axis  of tensor:\",rank_4_tensor.shape[-1])\n",
    "print(\"Total number of elements (3*2*4*5):\",tf.size(rank_4_tensor).numpy())"
   ]
  },
  {
   "cell_type": "code",
   "execution_count": 29,
   "id": "11f0a2db",
   "metadata": {},
   "outputs": [
    {
     "data": {
      "text/plain": [
       "<tf.Tensor: shape=(1, 2, 3, 5), dtype=float32, numpy=\n",
       "array([[[[0., 0., 0., 0., 0.],\n",
       "         [0., 0., 0., 0., 0.],\n",
       "         [0., 0., 0., 0., 0.]],\n",
       "\n",
       "        [[0., 0., 0., 0., 0.],\n",
       "         [0., 0., 0., 0., 0.],\n",
       "         [0., 0., 0., 0., 0.]]]], dtype=float32)>"
      ]
     },
     "execution_count": 29,
     "metadata": {},
     "output_type": "execute_result"
    }
   ],
   "source": [
    "rank_4_tensor"
   ]
  },
  {
   "cell_type": "code",
   "execution_count": null,
   "id": "04e7de0f",
   "metadata": {},
   "outputs": [],
   "source": []
  }
 ],
 "metadata": {
  "kernelspec": {
   "display_name": "Python 3",
   "language": "python",
   "name": "python3"
  },
  "language_info": {
   "codemirror_mode": {
    "name": "ipython",
    "version": 3
   },
   "file_extension": ".py",
   "mimetype": "text/x-python",
   "name": "python",
   "nbconvert_exporter": "python",
   "pygments_lexer": "ipython3",
   "version": "3.8.8"
  }
 },
 "nbformat": 4,
 "nbformat_minor": 5
}
