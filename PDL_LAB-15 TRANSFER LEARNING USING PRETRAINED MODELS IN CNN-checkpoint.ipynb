{
 "cells": [
  {
   "cell_type": "markdown",
   "metadata": {
    "id": "xCKgeAVnDngZ"
   },
   "source": [
    "### PDL Lab15. Transfer Learning using CNN\n",
    "\n",
    "\n"
   ]
  },
  {
   "cell_type": "markdown",
   "metadata": {
    "id": "Hq2YefpWD4oK"
   },
   "source": [
    "### 1.import neccesary modules \n"
   ]
  },
  {
   "cell_type": "code",
   "execution_count": 4,
   "metadata": {
    "id": "N63pfBSTDl5m"
   },
   "outputs": [],
   "source": [
    "import datetime\n",
    "\n",
    "import pandas as pd\n",
    "from keras.datasets import mnist\n",
    "from keras.models import Sequential\n",
    "from keras.layers import Dense, Dropout, Activation, Flatten\n",
    "from keras.layers import Conv2D, MaxPooling2D"
   ]
  },
  {
   "cell_type": "markdown",
   "metadata": {
    "id": "z_KxNMl2EErT"
   },
   "source": [
    "### 2. Initialize some parameters"
   ]
  },
  {
   "cell_type": "code",
   "execution_count": 5,
   "metadata": {
    "id": "rzxJd48ZD_Rt"
   },
   "outputs": [],
   "source": [
    "now = datetime.datetime.now            #get current time\n",
    "\n",
    "batch_size = 128\n",
    "num_classes = 5\n",
    "epochs = 5\n",
    "\n",
    "img_rows, img_cols = 28, 28\n",
    "filters = 32\n",
    "pool_size = 2\n",
    "kernel_size = 3"
   ]
  },
  {
   "cell_type": "markdown",
   "metadata": {
    "id": "1vDc5COAF6Qi"
   },
   "source": [
    "### 3. Partition MNIST dataset"
   ]
  },
  {
   "cell_type": "code",
   "execution_count": 6,
   "metadata": {
    "id": "adkMM2KnuGo1"
   },
   "outputs": [
    {
     "name": "stdout",
     "output_type": "stream",
     "text": [
      "Downloading data from https://storage.googleapis.com/tensorflow/tf-keras-datasets/mnist.npz\n",
      "11493376/11490434 [==============================] - 1s 0us/step\n",
      "11501568/11490434 [==============================] - 1s 0us/step\n"
     ]
    }
   ],
   "source": [
    "# the data, shuffled and split between train and test sets\n",
    "\n",
    "(x_train, y_train), (x_test, y_test) = mnist.load_data()"
   ]
  },
  {
   "cell_type": "code",
   "execution_count": 7,
   "metadata": {
    "id": "GH6QqsuPg3wK"
   },
   "outputs": [],
   "source": [
    "x_train_lt5 = x_train[y_train < 5]\n",
    "y_train_lt5 = y_train[y_train < 5]\n",
    "\n",
    "x_test_lt5 = x_test[y_test < 5]\n",
    "y_test_lt5 = y_test[y_test < 5]\n",
    "\n",
    "x_train_gte5 = x_train[y_train >= 5]\n",
    "y_train_gte5 = y_train[y_train >= 5]-5\n",
    "\n",
    "x_test_gte5 = x_test[y_test >= 5]\n",
    "y_test_gte5 = y_test[y_test >= 5]-5"
   ]
  },
  {
   "cell_type": "markdown",
   "metadata": {
    "id": "zl6vI6YENty-"
   },
   "source": [
    "### 4. Define the 'feature' layers"
   ]
  },
  {
   "cell_type": "code",
   "execution_count": 8,
   "metadata": {
    "id": "ncPa6n82KKDQ"
   },
   "outputs": [],
   "source": [
    "INPUT_SHAPE = (img_rows,img_cols,1)\n",
    "\n",
    "feature_layers=[Conv2D(filters=filters,kernel_size=kernel_size,activation='relu',input_shape=INPUT_SHAPE),\n",
    "                Conv2D(filters=filters,kernel_size=kernel_size,activation='relu',input_shape=INPUT_SHAPE),\n",
    "                MaxPooling2D(pool_size=pool_size),\n",
    "                Dropout(0.25),\n",
    "                Flatten()]"
   ]
  },
  {
   "cell_type": "markdown",
   "metadata": {
    "id": "FJILWjN9rY9s"
   },
   "source": [
    "### 5. Define the \"classification\" layers"
   ]
  },
  {
   "cell_type": "code",
   "execution_count": 9,
   "metadata": {
    "id": "C1d7SYuuQ7gM"
   },
   "outputs": [],
   "source": [
    "classification_layers = [Dense(128,activation='relu'),\n",
    "                         Dropout(0.5),\n",
    "                         Dense(5,activation='softmax')]"
   ]
  },
  {
   "cell_type": "markdown",
   "metadata": {
    "id": "yx3-LD-or8EA"
   },
   "source": [
    "### 6. Define a Sequential model"
   ]
  },
  {
   "cell_type": "code",
   "execution_count": 10,
   "metadata": {
    "colab": {
     "base_uri": "https://localhost:8080/"
    },
    "id": "0Z2r2PFyr9j8",
    "outputId": "c480d760-90f4-4ee5-d704-676398e96933"
   },
   "outputs": [
    {
     "name": "stdout",
     "output_type": "stream",
     "text": [
      "Model: \"sequential\"\n",
      "_________________________________________________________________\n",
      "Layer (type)                 Output Shape              Param #   \n",
      "=================================================================\n",
      "conv2d (Conv2D)              (None, 26, 26, 32)        320       \n",
      "_________________________________________________________________\n",
      "conv2d_1 (Conv2D)            (None, 24, 24, 32)        9248      \n",
      "_________________________________________________________________\n",
      "max_pooling2d (MaxPooling2D) (None, 12, 12, 32)        0         \n",
      "_________________________________________________________________\n",
      "dropout (Dropout)            (None, 12, 12, 32)        0         \n",
      "_________________________________________________________________\n",
      "flatten (Flatten)            (None, 4608)              0         \n",
      "_________________________________________________________________\n",
      "dense (Dense)                (None, 128)               589952    \n",
      "_________________________________________________________________\n",
      "dropout_1 (Dropout)          (None, 128)               0         \n",
      "_________________________________________________________________\n",
      "dense_1 (Dense)              (None, 5)                 645       \n",
      "=================================================================\n",
      "Total params: 600,165\n",
      "Trainable params: 600,165\n",
      "Non-trainable params: 0\n",
      "_________________________________________________________________\n"
     ]
    }
   ],
   "source": [
    "model = Sequential(feature_layers+classification_layers)\n",
    "model.summary()"
   ]
  },
  {
   "cell_type": "markdown",
   "metadata": {
    "id": "rGa0nlYssmhu"
   },
   "source": [
    "### 7. Create a function "
   ]
  },
  {
   "cell_type": "code",
   "execution_count": 11,
   "metadata": {
    "id": "B-Rlk36hQSph"
   },
   "outputs": [],
   "source": [
    "def train_model(model,train,test,num_classes):\n",
    "    \n",
    "    train[0] = train[0].reshape(train[0].shape[0],img_rows,img_cols,1)\n",
    "    test[0] = test[0].reshape(test[0].shape[0],img_rows,img_cols,1)\n",
    "\n",
    "    train[0] = train[0].astype('float32')\n",
    "    test[0] = test[0].astype('float32')\n",
    "  \n",
    "    train[0] /= 255\n",
    "    test[0] /= 255\n",
    "\n",
    "    print(train[0].shape)\n",
    "    print(test[0].shape)\n",
    "\n",
    "    s = pd.Series(train[1])\n",
    "    train[1] = pd.get_dummies(s)\n",
    "    train[1] = train[1].values\n",
    "\n",
    "    s = pd.Series(test[1])\n",
    "    test[1] = pd.get_dummies(s)\n",
    "    test[1] = test[1].values\n",
    "\n",
    "\n",
    "    model.compile(optimizer='adadelta',loss='categorical_crossentropy',metrics=['accuracy'])\n",
    "\n",
    "    train_start_time=now()\n",
    " \n",
    "    model.fit(train[0],train[1],epochs=epochs,verbose=2)\n",
    "  \n",
    "    print('\\n')\n",
    "    print('****************************************************************************************')\n",
    "    print('\\n')\n",
    "  \n",
    "    print('Training time: %s' % (now() - train_start_time))\n",
    "  \n",
    "    score=model.evaluate(test[0],test[1],verbose=0)\n",
    "  \n",
    "    print('test loss ',score[0])\n",
    "    print('test accuracy ',score[1])"
   ]
  },
  {
   "cell_type": "markdown",
   "metadata": {
    "id": "_kJiPqBnz-dh"
   },
   "source": [
    "### 8. Train your model on the digits 5,6,7,8,9"
   ]
  },
  {
   "cell_type": "code",
   "execution_count": 12,
   "metadata": {
    "colab": {
     "base_uri": "https://localhost:8080/"
    },
    "id": "cmaIDsuURoyk",
    "outputId": "460393bc-2e1b-4b14-8b1b-53858a1d8927"
   },
   "outputs": [
    {
     "name": "stdout",
     "output_type": "stream",
     "text": [
      "(29404, 28, 28, 1)\n",
      "(4861, 28, 28, 1)\n",
      "Epoch 1/5\n",
      "919/919 - 10s - loss: 1.5777 - accuracy: 0.3185\n",
      "Epoch 2/5\n",
      "919/919 - 3s - loss: 1.5142 - accuracy: 0.4698\n",
      "Epoch 3/5\n",
      "919/919 - 3s - loss: 1.4367 - accuracy: 0.5615\n",
      "Epoch 4/5\n",
      "919/919 - 3s - loss: 1.3364 - accuracy: 0.6279\n",
      "Epoch 5/5\n",
      "919/919 - 3s - loss: 1.2181 - accuracy: 0.6786\n",
      "\n",
      "\n",
      "****************************************************************************************\n",
      "\n",
      "\n",
      "Training time: 0:00:23.617685\n",
      "test loss  1.102705717086792\n",
      "test accuracy  0.8181444406509399\n"
     ]
    }
   ],
   "source": [
    "train_model(model,[x_train_gte5,y_train_gte5],[x_test_gte5,y_test_gte5],num_classes)"
   ]
  },
  {
   "cell_type": "markdown",
   "metadata": {
    "id": "5apDVyJehNR8"
   },
   "source": [
    "### 9. Freeze Feature Layers"
   ]
  },
  {
   "cell_type": "code",
   "execution_count": 13,
   "metadata": {
    "id": "Car0HQYOhbNS"
   },
   "outputs": [],
   "source": [
    "for l in feature_layers:\n",
    " l.trainable = False"
   ]
  },
  {
   "cell_type": "markdown",
   "metadata": {
    "id": "2eT414vQhPjm"
   },
   "source": [
    "### 10. Print model summary()"
   ]
  },
  {
   "cell_type": "code",
   "execution_count": 14,
   "metadata": {
    "colab": {
     "base_uri": "https://localhost:8080/"
    },
    "id": "lBx4lQCzhbx5",
    "outputId": "050de2f7-1ee3-4c7f-fbcd-e13d7d15a657"
   },
   "outputs": [
    {
     "name": "stdout",
     "output_type": "stream",
     "text": [
      "Model: \"sequential\"\n",
      "_________________________________________________________________\n",
      "Layer (type)                 Output Shape              Param #   \n",
      "=================================================================\n",
      "conv2d (Conv2D)              (None, 26, 26, 32)        320       \n",
      "_________________________________________________________________\n",
      "conv2d_1 (Conv2D)            (None, 24, 24, 32)        9248      \n",
      "_________________________________________________________________\n",
      "max_pooling2d (MaxPooling2D) (None, 12, 12, 32)        0         \n",
      "_________________________________________________________________\n",
      "dropout (Dropout)            (None, 12, 12, 32)        0         \n",
      "_________________________________________________________________\n",
      "flatten (Flatten)            (None, 4608)              0         \n",
      "_________________________________________________________________\n",
      "dense (Dense)                (None, 128)               589952    \n",
      "_________________________________________________________________\n",
      "dropout_1 (Dropout)          (None, 128)               0         \n",
      "_________________________________________________________________\n",
      "dense_1 (Dense)              (None, 5)                 645       \n",
      "=================================================================\n",
      "Total params: 600,165\n",
      "Trainable params: 590,597\n",
      "Non-trainable params: 9,568\n",
      "_________________________________________________________________\n"
     ]
    }
   ],
   "source": [
    "model.summary()"
   ]
  },
  {
   "cell_type": "markdown",
   "metadata": {
    "id": "JNrAqRtvhSyI"
   },
   "source": [
    "### 11. Now, let's train our model on the digits 0, 1, 2, 3, 4"
   ]
  },
  {
   "cell_type": "code",
   "execution_count": 15,
   "metadata": {
    "colab": {
     "base_uri": "https://localhost:8080/"
    },
    "id": "3lhohSQjhcqW",
    "outputId": "6d3d236f-9c96-4aae-d3ed-1cec72ce4bcc"
   },
   "outputs": [
    {
     "name": "stdout",
     "output_type": "stream",
     "text": [
      "(30596, 28, 28, 1)\n",
      "(5139, 28, 28, 1)\n",
      "Epoch 1/5\n",
      "957/957 - 3s - loss: 1.5110 - accuracy: 0.3751\n",
      "Epoch 2/5\n",
      "957/957 - 3s - loss: 1.3457 - accuracy: 0.5209\n",
      "Epoch 3/5\n",
      "957/957 - 3s - loss: 1.2050 - accuracy: 0.6486\n",
      "Epoch 4/5\n",
      "957/957 - 3s - loss: 1.0829 - accuracy: 0.7386\n",
      "Epoch 5/5\n",
      "957/957 - 3s - loss: 0.9745 - accuracy: 0.7917\n",
      "\n",
      "\n",
      "****************************************************************************************\n",
      "\n",
      "\n",
      "Training time: 0:00:13.416248\n",
      "test loss  0.8574796319007874\n",
      "test accuracy  0.8871375918388367\n"
     ]
    }
   ],
   "source": [
    "train_model(model,[x_train_lt5, y_train_lt5],[x_test_lt5, y_test_lt5], num_classes)"
   ]
  },
  {
   "cell_type": "markdown",
   "metadata": {
    "id": "m9oLo0JQhXB2"
   },
   "source": [
    "### 12. Now write code to reverse this training process"
   ]
  },
  {
   "cell_type": "code",
   "execution_count": 16,
   "metadata": {
    "id": "LwitOqUe0NJQ"
   },
   "outputs": [],
   "source": [
    "INPUT_SHAPE = (img_rows,img_cols,1)\n",
    "\n",
    "feature_layers=[Conv2D(filters=filters,kernel_size=kernel_size,activation='relu',input_shape=INPUT_SHAPE),\n",
    "                Conv2D(filters=filters,kernel_size=kernel_size,activation='relu',input_shape=INPUT_SHAPE),\n",
    "                MaxPooling2D(pool_size=pool_size),\n",
    "                Dropout(0.25),\n",
    "                Flatten()]\n",
    "\n",
    "classification_layers = [Dense(128,activation='relu'),\n",
    "                         Dropout(0.5),\n",
    "                         Dense(5,activation='softmax')]               "
   ]
  },
  {
   "cell_type": "code",
   "execution_count": 17,
   "metadata": {
    "colab": {
     "base_uri": "https://localhost:8080/"
    },
    "id": "8S6Dr3tosy_y",
    "outputId": "bd573fa4-dd21-4f89-e36b-50437c3cd320"
   },
   "outputs": [
    {
     "name": "stdout",
     "output_type": "stream",
     "text": [
      "Model: \"sequential_1\"\n",
      "_________________________________________________________________\n",
      "Layer (type)                 Output Shape              Param #   \n",
      "=================================================================\n",
      "conv2d_2 (Conv2D)            (None, 26, 26, 32)        320       \n",
      "_________________________________________________________________\n",
      "conv2d_3 (Conv2D)            (None, 24, 24, 32)        9248      \n",
      "_________________________________________________________________\n",
      "max_pooling2d_1 (MaxPooling2 (None, 12, 12, 32)        0         \n",
      "_________________________________________________________________\n",
      "dropout_2 (Dropout)          (None, 12, 12, 32)        0         \n",
      "_________________________________________________________________\n",
      "flatten_1 (Flatten)          (None, 4608)              0         \n",
      "_________________________________________________________________\n",
      "dense_2 (Dense)              (None, 128)               589952    \n",
      "_________________________________________________________________\n",
      "dropout_3 (Dropout)          (None, 128)               0         \n",
      "_________________________________________________________________\n",
      "dense_3 (Dense)              (None, 5)                 645       \n",
      "=================================================================\n",
      "Total params: 600,165\n",
      "Trainable params: 600,165\n",
      "Non-trainable params: 0\n",
      "_________________________________________________________________\n"
     ]
    }
   ],
   "source": [
    "modelR = Sequential(feature_layers+classification_layers)\n",
    "modelR.summary()"
   ]
  },
  {
   "cell_type": "code",
   "execution_count": 18,
   "metadata": {
    "colab": {
     "base_uri": "https://localhost:8080/"
    },
    "id": "j_jpKSnCz62S",
    "outputId": "19942258-9c54-4cb6-cc32-d258d52616f0"
   },
   "outputs": [
    {
     "name": "stdout",
     "output_type": "stream",
     "text": [
      "(30596, 28, 28, 1)\n",
      "(5139, 28, 28, 1)\n",
      "Epoch 1/5\n",
      "957/957 - 4s - loss: 1.5701 - accuracy: 0.2947\n",
      "Epoch 2/5\n",
      "957/957 - 4s - loss: 1.4467 - accuracy: 0.5076\n",
      "Epoch 3/5\n",
      "957/957 - 4s - loss: 1.2775 - accuracy: 0.6794\n",
      "Epoch 4/5\n",
      "957/957 - 4s - loss: 1.0569 - accuracy: 0.7841\n",
      "Epoch 5/5\n",
      "957/957 - 4s - loss: 0.8319 - accuracy: 0.8339\n",
      "\n",
      "\n",
      "****************************************************************************************\n",
      "\n",
      "\n",
      "Training time: 0:00:18.942155\n",
      "test loss  0.6178683042526245\n",
      "test accuracy  0.9287799000740051\n"
     ]
    }
   ],
   "source": [
    "train_model(modelR,[x_train_lt5,y_train_lt5],[x_test_lt5,y_test_lt5],num_classes)"
   ]
  },
  {
   "cell_type": "code",
   "execution_count": 19,
   "metadata": {
    "id": "IbeHrXbZ0lFb"
   },
   "outputs": [],
   "source": [
    "for l in feature_layers:\n",
    " l.trainable = False"
   ]
  },
  {
   "cell_type": "code",
   "execution_count": 20,
   "metadata": {
    "colab": {
     "base_uri": "https://localhost:8080/"
    },
    "id": "luCB6Z8T0tt-",
    "outputId": "e24bda3e-02ec-4e2e-ecf9-14b6cd005b59"
   },
   "outputs": [
    {
     "name": "stdout",
     "output_type": "stream",
     "text": [
      "Model: \"sequential_1\"\n",
      "_________________________________________________________________\n",
      "Layer (type)                 Output Shape              Param #   \n",
      "=================================================================\n",
      "conv2d_2 (Conv2D)            (None, 26, 26, 32)        320       \n",
      "_________________________________________________________________\n",
      "conv2d_3 (Conv2D)            (None, 24, 24, 32)        9248      \n",
      "_________________________________________________________________\n",
      "max_pooling2d_1 (MaxPooling2 (None, 12, 12, 32)        0         \n",
      "_________________________________________________________________\n",
      "dropout_2 (Dropout)          (None, 12, 12, 32)        0         \n",
      "_________________________________________________________________\n",
      "flatten_1 (Flatten)          (None, 4608)              0         \n",
      "_________________________________________________________________\n",
      "dense_2 (Dense)              (None, 128)               589952    \n",
      "_________________________________________________________________\n",
      "dropout_3 (Dropout)          (None, 128)               0         \n",
      "_________________________________________________________________\n",
      "dense_3 (Dense)              (None, 5)                 645       \n",
      "=================================================================\n",
      "Total params: 600,165\n",
      "Trainable params: 590,597\n",
      "Non-trainable params: 9,568\n",
      "_________________________________________________________________\n"
     ]
    }
   ],
   "source": [
    "modelR.summary()"
   ]
  },
  {
   "cell_type": "code",
   "execution_count": 21,
   "metadata": {
    "colab": {
     "base_uri": "https://localhost:8080/"
    },
    "id": "wrPc6kG10wyZ",
    "outputId": "16aeebf0-32d2-4e53-8701-f7346b3ec227"
   },
   "outputs": [
    {
     "name": "stdout",
     "output_type": "stream",
     "text": [
      "(29404, 28, 28, 1)\n",
      "(4861, 28, 28, 1)\n",
      "Epoch 1/5\n",
      "919/919 - 3s - loss: 1.5725 - accuracy: 0.3373\n",
      "Epoch 2/5\n",
      "919/919 - 2s - loss: 1.3574 - accuracy: 0.4472\n",
      "Epoch 3/5\n",
      "919/919 - 2s - loss: 1.1898 - accuracy: 0.5625\n",
      "Epoch 4/5\n",
      "919/919 - 2s - loss: 1.0557 - accuracy: 0.6475\n",
      "Epoch 5/5\n",
      "919/919 - 2s - loss: 0.9539 - accuracy: 0.7020\n",
      "\n",
      "\n",
      "****************************************************************************************\n",
      "\n",
      "\n",
      "Training time: 0:00:12.852928\n",
      "test loss  0.8061124086380005\n",
      "test accuracy  0.8127956986427307\n"
     ]
    }
   ],
   "source": [
    "train_model(modelR,[x_train_gte5,y_train_gte5],[x_test_gte5,y_test_gte5],num_classes)"
   ]
  },
  {
   "cell_type": "markdown",
   "metadata": {
    "id": "z-B42UMu2GCO"
   },
   "source": [
    "### CASE 1 : Digits 5-9 is trained then last layer of network trained on Digit 0-4\n",
    "\n",
    "### Digit 5-9   :\n",
    "#### Training time: 0:00:23.617685\n",
    "#### test loss  1.102705717086792\n",
    "#### test accuracy  0.8181444406509399\n",
    "\n",
    "\n",
    "\n",
    "### Digit 0-4   :\n",
    "#### Training time: 0:00:13.416248\n",
    "#### test loss  0.8574796319007874\n",
    "#### test accuracy  0.8871375918388367\n",
    "\n"
   ]
  },
  {
   "cell_type": "markdown",
   "metadata": {
    "id": "QpgYQN903u1Q"
   },
   "source": [
    "### CASE 2 : Digits 0-4 is trained then last layer of network trained on Digit 5-9\n",
    "\n",
    "### Digit 0-4\n",
    "#### Training time: 0:00:18.942155\n",
    "#### test loss  0.6178683042526245\n",
    "#### test accuracy  0.9287799000740051\n",
    "\n",
    "### Digit 5-9 \n",
    "#### Training time: 0:00:12.852928\n",
    "#### test loss  0.8061124086380005\n",
    "#### test accuracy  0.8127956986427307\n"
   ]
  }
 ],
 "metadata": {
  "accelerator": "GPU",
  "colab": {
   "collapsed_sections": [],
   "name": "PDL_LAB_15.ipynb",
   "provenance": []
  },
  "kernelspec": {
   "display_name": "Python 3",
   "language": "python",
   "name": "python3"
  },
  "language_info": {
   "codemirror_mode": {
    "name": "ipython",
    "version": 3
   },
   "file_extension": ".py",
   "mimetype": "text/x-python",
   "name": "python",
   "nbconvert_exporter": "python",
   "pygments_lexer": "ipython3",
   "version": "3.8.5"
  }
 },
 "nbformat": 4,
 "nbformat_minor": 4
}
